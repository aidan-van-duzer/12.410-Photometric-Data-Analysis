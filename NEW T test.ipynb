{
 "cells": [
  {
   "cell_type": "code",
   "execution_count": 5,
   "id": "e622ddc6-b9b5-4af1-80b1-ee22d54dd499",
   "metadata": {},
   "outputs": [],
   "source": [
    "from scipy.stats import norm\n",
    "import numpy as np"
   ]
  },
  {
   "cell_type": "code",
   "execution_count": 13,
   "id": "03ae3456-3fdb-453c-ab8d-6fd172c68909",
   "metadata": {},
   "outputs": [
    {
     "name": "stdout",
     "output_type": "stream",
     "text": [
      "P: 0.07361973925413613\n",
      "a: 0.9263802607458639\n",
      "Confidence limit = 7%\n"
     ]
    }
   ],
   "source": [
    "t = 0.0924\n",
    "x = np.linspace(-t, t, 100)\n",
    "y = norm.pdf(x)\n",
    "P = np.trapz(y, x=x)\n",
    "\n",
    "print('P:', P)\n",
    "print('a:', 1-P)\n",
    "print('Confidence limit = {:.0f}%'.format(P*100.0))"
   ]
  },
  {
   "cell_type": "code",
   "execution_count": null,
   "id": "a72e6b16-60ac-49ba-b8e7-7c16b8afaeba",
   "metadata": {},
   "outputs": [],
   "source": []
  }
 ],
 "metadata": {
  "kernelspec": {
   "display_name": "Python 3 (ipykernel)",
   "language": "python",
   "name": "python3"
  },
  "language_info": {
   "codemirror_mode": {
    "name": "ipython",
    "version": 3
   },
   "file_extension": ".py",
   "mimetype": "text/x-python",
   "name": "python",
   "nbconvert_exporter": "python",
   "pygments_lexer": "ipython3",
   "version": "3.9.13"
  }
 },
 "nbformat": 4,
 "nbformat_minor": 5
}
