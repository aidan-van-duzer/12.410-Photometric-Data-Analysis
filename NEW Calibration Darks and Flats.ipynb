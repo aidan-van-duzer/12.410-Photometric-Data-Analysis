{
 "cells": [
  {
   "cell_type": "code",
   "execution_count": 10,
   "id": "f8ae7b1a-bb00-4563-97ff-f64bd76f2d7a",
   "metadata": {},
   "outputs": [],
   "source": [
    "from astropy.io import fits\n",
    "import photutils\n",
    "from photutils.centroids import centroid_sources, centroid_2dg, centroid_com\n",
    "from photutils.aperture import CircularAperture, CircularAnnulus, aperture_photometry\n",
    "import numpy as np\n",
    "import glob\n",
    "import math\n",
    "import matplotlib.pyplot as plt \n",
    "import statistics\n",
    "from photutils.datasets import make_4gaussians_image\n",
    "from photutils.centroids import centroid_com, centroid_quadratic\n",
    "from photutils.centroids import centroid_1dg, centroid_2dg"
   ]
  },
  {
   "cell_type": "code",
   "execution_count": 11,
   "id": "34067ed5-bfe3-4340-aa27-e5ab79bc548d",
   "metadata": {},
   "outputs": [],
   "source": [
    "dark_list= np.sort(glob.glob('/Users/macbookprodetubabu/Desktop/12.410/Observing 9.27.2022/Darks' + '/*.fit')) \n",
    "dark_stack = [] \n",
    "for file in dark_list: \n",
    "    dark_stack.append(fits.getdata(file)) \n",
    "medianDark = np.median(dark_stack, axis=0)\n",
    "\n",
    "flat = '/Users/macbookprodetubabu/Desktop/12.410/Flats/221015-MASTERFLAT-gp.fits'\n",
    "# flat_list= [flat] \n",
    "# flat_stack = [] \n",
    "# for file in flat_list: \n",
    "data,header = fits.getdata(flat,header=True) \n",
    "    # flat_stack.append(data) \n",
    "master_flat = np.median(data, axis=0) \n",
    "\n",
    "\n"
   ]
  },
  {
   "cell_type": "code",
   "execution_count": 12,
   "id": "d4c545ae-4f7d-43aa-aec1-cc45a61a2732",
   "metadata": {
    "tags": []
   },
   "outputs": [
    {
     "name": "stdout",
     "output_type": "stream",
     "text": [
      "1\n",
      "2\n",
      "3\n",
      "4\n",
      "5\n",
      "6\n",
      "7\n",
      "8\n",
      "9\n",
      "10\n",
      "11\n",
      "12\n",
      "13\n",
      "14\n",
      "15\n",
      "16\n",
      "17\n",
      "18\n",
      "19\n",
      "20\n",
      "21\n",
      "22\n",
      "23\n",
      "24\n",
      "25\n",
      "26\n",
      "27\n",
      "28\n",
      "29\n",
      "30\n",
      "31\n",
      "32\n",
      "33\n",
      "34\n",
      "35\n",
      "36\n",
      "37\n",
      "38\n",
      "39\n",
      "40\n",
      "41\n",
      "42\n",
      "43\n",
      "44\n",
      "45\n",
      "46\n",
      "47\n",
      "48\n",
      "49\n"
     ]
    }
   ],
   "source": [
    "directory = np.sort(glob.glob('/Users/macbookprodetubabu/Desktop/12.410/Observing 9.27.2022/g Data' + '/*.fit'))\n",
    "\n",
    "\n",
    "file_number = 0\n",
    "for file in directory: \n",
    "    file_number += 1\n",
    "    data,header = fits.getdata(file,header=True) \n",
    "    data = (data - medianDark) / master_flat \n",
    "    hdu = fits.PrimaryHDU(data,header=header) \n",
    "    hdu.writeto(file + \"calibrated.fit\", overwrite=True)\n",
    "    print(file_number)\n"
   ]
  },
  {
   "cell_type": "code",
   "execution_count": null,
   "id": "36f8207a-33b9-42b3-bf92-02ee7476d752",
   "metadata": {},
   "outputs": [],
   "source": []
  }
 ],
 "metadata": {
  "kernelspec": {
   "display_name": "Python 3 (ipykernel)",
   "language": "python",
   "name": "python3"
  },
  "language_info": {
   "codemirror_mode": {
    "name": "ipython",
    "version": 3
   },
   "file_extension": ".py",
   "mimetype": "text/x-python",
   "name": "python",
   "nbconvert_exporter": "python",
   "pygments_lexer": "ipython3",
   "version": "3.9.13"
  }
 },
 "nbformat": 4,
 "nbformat_minor": 5
}
